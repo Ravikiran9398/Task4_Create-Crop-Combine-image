{
 "cells": [
  {
   "cell_type": "code",
   "execution_count": 202,
   "metadata": {},
   "outputs": [],
   "source": [
    "import cv2\n",
    "import numpy"
   ]
  },
  {
   "cell_type": "code",
   "execution_count": 362,
   "metadata": {},
   "outputs": [],
   "source": [
    "create = numpy.zeros((600, 700, 3))\n"
   ]
  },
  {
   "cell_type": "code",
   "execution_count": 365,
   "metadata": {},
   "outputs": [],
   "source": [
    "# Four boxes\n",
    "create[30:80, 30:80] = [255,255,0]           #sky blue box\n",
    "create[30:80, 100:150] = [0,255,255]         # yellow box\n",
    "create[100:150, 30:80] = [255,0,255]         # purple box\n",
    "create[100:150, 100:150] = [60,255,255]      # white box\n",
    "\n",
    "# Inside Black box\n",
    "create[161:540, 240:680] = [0,0,0]           # Inner Black\n",
    "\n",
    "create[185:255, 280:350] = [255,0,0]         # blue in Black\n",
    "\n",
    "create[195:215, 400:470] = [0,0,255]         # red in Black\n",
    "create[225:245, 400:470] = [0,0,255]         # red in Black\n",
    "\n",
    "create[185:255, 520:590] = [0,255,255]       # yellow in Black\n",
    "\n",
    "\n",
    "create[290:360, 290:310] = [0,0,255]         # red in Black\n",
    "create[290:360, 320:340] = [0,0,255]         # red in Black\n",
    "\n",
    "create[290:360, 400:470] = [0,255,0]         # green in Black\n",
    "\n",
    "create[290:360, 530:550] = [0,0,255]         # red in Black\n",
    "create[290:360, 560:580] = [0,0,255]         # red in Black\n",
    "\n",
    "create[405:475, 280:350] = [255,255,0]       #sky blue in Black\n",
    "\n",
    "create[415:435, 400:470] = [0,0,255]         # red in Black\n",
    "create[445:465, 400:470] = [0,0,255]         # red in Black\n",
    "\n",
    "create[405:475, 520:590] = [255,0,255]       # purple in Black\n",
    "\n",
    "\n",
    "\n",
    "# Bottom line\n",
    "create[560:600,1:50] = [255,255,255]            # white box\n",
    "create[570:590,20:40] = [0,0,0]                 # small black box\n",
    "     \n",
    "create[560:600, 51:230] = [255,255,255]        #white box\n",
    "\n",
    "\n",
    "create[560:600,250:300] = [255,255,255]     # bottom white box\n",
    "create[570:590,265:285] = [0,255,255]       # small yellow\n",
    "\n",
    "create[560:600,320:370] = [255,255,255]     # bottom white box\n",
    "create[570:590,335:355] = [255,0,255]       # small purple\n",
    "\n",
    "create[570:590,630:670] = [255,255,255]       # bottom end white \n",
    "\n",
    "\n",
    "#create[50:550, 231:690] = [255,255,255]\n",
    "\n",
    "\n",
    "\n",
    "# Inside red box\n",
    "create[51:150, 231:690] = [0,0,255]            # red box\n",
    "\n",
    "create[55:75, 650:680] = [255,0,0]             # 5 Inner Blue in red\n",
    "create[55:75, 610:640] = [0,255,0]             # 4 Inner green in red\n",
    "create[55:75, 570:600] = [0,0,0]               # 3 Inner black in red\n",
    "create[55:75, 530:560] = [255,255,0]           # 2 Inner sky Blue in red\n",
    "create[55:75, 490:520] = [255,0,255]           # 1 Inner purple in red\n",
    "\n",
    "create[85:105, 650:680] = [255,0,255]          #5 Inner puurple in red\n",
    "create[85:105, 610:640] = [255,255,255]        #4 Inner white  in red\n",
    "create[85:105, 570:600] = [0,255,255]          #3 Inner yellow in red\n",
    "create[85:105, 530:560] = [0,255,0]            #2 Inner green in red\n",
    "create[85:105, 490:520] = [255,0,0]            #1 Inner blue in red\n",
    "\n",
    "create[55:105, 420:480] = [0,0,0]            #1 Inner black in red \n",
    "create[55:105, 350:410] = [0,0,0]            #1 Inner black in red\n",
    "\n",
    "\n",
    "\n"
   ]
  },
  {
   "cell_type": "code",
   "execution_count": 366,
   "metadata": {},
   "outputs": [],
   "source": [
    "cv2.imshow(\"Hello\", create)\n",
    "cv2.waitKey()\n",
    "cv2.destroyAllWindows()"
   ]
  },
  {
   "cell_type": "code",
   "execution_count": null,
   "metadata": {},
   "outputs": [],
   "source": []
  },
  {
   "cell_type": "code",
   "execution_count": null,
   "metadata": {},
   "outputs": [],
   "source": []
  },
  {
   "cell_type": "code",
   "execution_count": null,
   "metadata": {},
   "outputs": [],
   "source": []
  }
 ],
 "metadata": {
  "kernelspec": {
   "display_name": "Python 3",
   "language": "python",
   "name": "python3"
  },
  "language_info": {
   "codemirror_mode": {
    "name": "ipython",
    "version": 3
   },
   "file_extension": ".py",
   "mimetype": "text/x-python",
   "name": "python",
   "nbconvert_exporter": "python",
   "pygments_lexer": "ipython3",
   "version": "3.8.5"
  }
 },
 "nbformat": 4,
 "nbformat_minor": 4
}
